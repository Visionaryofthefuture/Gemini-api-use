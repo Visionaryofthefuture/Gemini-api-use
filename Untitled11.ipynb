{
  "nbformat": 4,
  "nbformat_minor": 0,
  "metadata": {
    "colab": {
      "provenance": [],
      "authorship_tag": "ABX9TyPfUVNB2nH66MVuUOenx19Z",
      "include_colab_link": true
    },
    "kernelspec": {
      "name": "python3",
      "display_name": "Python 3"
    },
    "language_info": {
      "name": "python"
    }
  },
  "cells": [
    {
      "cell_type": "markdown",
      "metadata": {
        "id": "view-in-github",
        "colab_type": "text"
      },
      "source": [
        "<a href=\"https://colab.research.google.com/github/Visionaryofthefuture/music/blob/master/Untitled11.ipynb\" target=\"_parent\"><img src=\"https://colab.research.google.com/assets/colab-badge.svg\" alt=\"Open In Colab\"/></a>"
      ]
    },
    {
      "cell_type": "code",
      "execution_count": 68,
      "metadata": {
        "id": "Uj9YLtIXQGic"
      },
      "outputs": [],
      "source": []
    },
    {
      "cell_type": "code",
      "source": [
        "pip install -q -U google-generativeai"
      ],
      "metadata": {
        "id": "uvqSdG0AQ8r-"
      },
      "execution_count": 69,
      "outputs": []
    },
    {
      "cell_type": "code",
      "source": [
        "import pathlib\n",
        "import textwrap\n",
        "import google.generativeai as genai\n",
        "from IPython.display import display, Markdown\n",
        "\n",
        "def to_markdown(text):\n",
        "    text = text.replace('•', '  *')\n",
        "    return Markdown(textwrap.indent(text, '> ', predicate=lambda _: True))"
      ],
      "metadata": {
        "id": "8oGdxedcAYfG"
      },
      "execution_count": 70,
      "outputs": []
    },
    {
      "cell_type": "code",
      "source": [
        "from google.colab import userdata\n",
        "API_KEY = userdata.get('API_KEY')\n",
        "\n",
        "def configure(apikey):\n",
        "  genai.configure(api_key = apikey)\n",
        "  print(\"configured\")\n",
        "\n",
        "configure(API_KEY)"
      ],
      "metadata": {
        "colab": {
          "base_uri": "https://localhost:8080/"
        },
        "id": "NXD_FMoLEfW9",
        "outputId": "6650b0a4-6b45-48b2-ccba-41adb4f6d991"
      },
      "execution_count": null,
      "outputs": [
        {
          "output_type": "stream",
          "name": "stdout",
          "text": [
            "configured\n"
          ]
        }
      ]
    },
    {
      "cell_type": "code",
      "source": [
        "for m in genai.list_models():\n",
        "  print(m.name)"
      ],
      "metadata": {
        "colab": {
          "base_uri": "https://localhost:8080/",
          "height": 213
        },
        "id": "hwGYMfLoGmgg",
        "outputId": "03c60057-9af6-4f57-ac1d-e3058427a518"
      },
      "execution_count": null,
      "outputs": [
        {
          "output_type": "stream",
          "name": "stdout",
          "text": [
            "models/chat-bison-001\n",
            "models/text-bison-001\n",
            "models/embedding-gecko-001\n",
            "models/gemini-1.0-pro\n",
            "models/gemini-1.0-pro-001\n",
            "models/gemini-1.0-pro-latest\n",
            "models/gemini-1.0-pro-vision-latest\n",
            "models/gemini-pro\n",
            "models/gemini-pro-vision\n",
            "models/embedding-001\n",
            "models/aqa\n"
          ]
        }
      ]
    },
    {
      "cell_type": "code",
      "source": [
        "model = genai.GenerativeModel('gemini-pro')\n"
      ],
      "metadata": {
        "id": "pLZ23eOLGyDN"
      },
      "execution_count": null,
      "outputs": []
    },
    {
      "cell_type": "code",
      "source": [],
      "metadata": {
        "id": "l8UE0GZlVOQk"
      },
      "execution_count": null,
      "outputs": []
    },
    {
      "cell_type": "code",
      "source": [
        "%%time\n",
        "\n",
        "question = input(\"please ask a question : \")\n",
        "response = model.generate_content(question)\n",
        "to_markdown(response.text)"
      ],
      "metadata": {
        "colab": {
          "base_uri": "https://localhost:8080/",
          "height": 528
        },
        "id": "Xe5uyVswTZ5F",
        "outputId": "04bbcd9b-dfb1-4889-b1b4-0b216b27a3af"
      },
      "execution_count": null,
      "outputs": [
        {
          "output_type": "stream",
          "name": "stdout",
          "text": [
            "please ask a question : define superman\n",
            "CPU times: user 270 ms, sys: 44.7 ms, total: 315 ms\n",
            "Wall time: 18.1 s\n"
          ]
        },
        {
          "output_type": "execute_result",
          "data": {
            "text/plain": [
              "<IPython.core.display.Markdown object>"
            ],
            "text/markdown": "> Superman is a fictional superhero appearing in American comic books published by DC Comics. The character was created by writer Jerry Siegel and artist Joe Shuster, and first appeared in Action Comics #1 (June 1938). Superman has been adapted into numerous other media, including radio serials, television series, films, and video games.\n> \n> Superman is a Kryptonian, an alien from the planet Krypton. He was born Kal-El, but was sent to Earth as a baby to escape the destruction of his home planet. He was found by farmers Jonathan and Martha Kent of Smallville, Kansas, who raised him as their own son, naming him Clark Kent. As Clark grew up, he developed superpowers, including super strength, speed, flight, invulnerability, heat vision, and X-ray vision. He decided to use his powers to help others, becoming the superhero Superman.\n> \n> Superman is one of the most popular and recognizable fictional characters in the world. He has been praised for his heroism, his moral compass, and his dedication to truth and justice. He has also been criticized for his perceived lack of relatability and his god-like powers.\n> \n> Despite the criticism, Superman remains a beloved character and has inspired countless people around the world. He is a symbol of hope, justice, and the power of good over evil.\n> \n> Here are some of Superman's most notable characteristics:\n> \n> * **Super strength:** Superman is incredibly strong. He can lift objects that weigh millions of tons.\n> * **Super speed:** Superman can travel at speeds faster than the speed of light.\n> * **Super flight:** Superman can fly at incredible speeds.\n> * **Invulnerability:** Superman is virtually invulnerable to physical harm.\n> * **Heat vision:** Superman can fire beams of heat from his eyes.\n> * **X-ray vision:** Superman can see through solid objects.\n> * **Super breath:** Superman can exhale gusts of wind that can knock down buildings.\n> * **Super hearing:** Superman can hear sounds from miles away.\n> * **Super intelligence:** Superman has a brilliant mind and can learn things very quickly.\n> * **Moral compass:** Superman has a strong moral compass and always tries to do the right thing.\n> * **Dedication to truth and justice:** Superman is dedicated to fighting for truth and justice, no matter the cost."
          },
          "metadata": {},
          "execution_count": 42
        }
      ]
    },
    {
      "cell_type": "code",
      "source": [
        "import PIL\n",
        "from PIL import Image as pil\n",
        "imgpath = \"/content/Screenshot 2024-02-23 at 1.27.39 PM.png\"\n",
        "img = pil.open(imgpath)\n"
      ],
      "metadata": {
        "id": "d67TMOWdUiCi"
      },
      "execution_count": null,
      "outputs": []
    },
    {
      "cell_type": "code",
      "source": [
        "model2 = genai.GenerativeModel('gemini-pro-vision')"
      ],
      "metadata": {
        "id": "IyeRP-NDVd3n"
      },
      "execution_count": null,
      "outputs": []
    },
    {
      "cell_type": "code",
      "source": [
        "response2 = model2.generate_content(img)\n",
        "\n",
        "to_markdown(response2.text)"
      ],
      "metadata": {
        "colab": {
          "base_uri": "https://localhost:8080/",
          "height": 206
        },
        "id": "-ajuzp4oWqS3",
        "outputId": "f94a61a0-6e51-4e82-b39a-6f7605184367"
      },
      "execution_count": null,
      "outputs": [
        {
          "output_type": "execute_result",
          "data": {
            "text/plain": [
              "<IPython.core.display.Markdown object>"
            ],
            "text/markdown": ">  The simulation shows the measurement of the level of liquid in a tank using a capacitive type level probe. The probe is a vertical rod that is inserted into the tank. The rod is coated with a conductive material, and the tank is grounded. When the probe is inserted into the tank, the capacitance between the probe and the tank increases as the level of liquid increases. This is because the liquid has a higher dielectric constant than air. The capacitance is measured using a capacitance meter. The meter is connected to the probe and the tank. The meter displays the capacitance in farads (F). The capacitance is converted to a level in centimeters (cm) using a calibration curve. The calibration curve is a graph of the capacitance versus the level of liquid. The curve is created by measuring the capacitance at different levels of liquid. The simulation shows the calibration curve for a capacitive type level probe. The curve is a straight line. The equation of the line is: $$C = 0.001h + 0.002$$ where C is the capacitance in farads (F) and h is the level of liquid in centimeters (cm)."
          },
          "metadata": {},
          "execution_count": 56
        }
      ]
    },
    {
      "cell_type": "code",
      "source": [
        "%%time\n",
        "response3 = model2.generate_content([\"write a story of a boy with a passion for engineering and what lead him down the path to perform this experiment\",img], stream = True)\n",
        "response3.resolve()"
      ],
      "metadata": {
        "colab": {
          "base_uri": "https://localhost:8080/",
          "height": 53
        },
        "id": "klxOS-sbagGp",
        "outputId": "b709998f-9561-4034-c4d0-7114503bd592"
      },
      "execution_count": null,
      "outputs": [
        {
          "output_type": "stream",
          "name": "stdout",
          "text": [
            "CPU times: user 541 ms, sys: 19 ms, total: 560 ms\n",
            "Wall time: 12.1 s\n"
          ]
        }
      ]
    },
    {
      "cell_type": "code",
      "source": [
        "to_markdown(response3.text)"
      ],
      "metadata": {
        "colab": {
          "base_uri": "https://localhost:8080/",
          "height": 243
        },
        "id": "U4_2pwRkbzeY",
        "outputId": "819a09d1-3547-411d-cee2-2041f1a4d33e"
      },
      "execution_count": null,
      "outputs": [
        {
          "output_type": "execute_result",
          "data": {
            "text/plain": [
              "<IPython.core.display.Markdown object>"
            ],
            "text/markdown": ">  Once upon a time, there was a boy named Billy who was fascinated by engineering. He loved to build things and take things apart to see how they worked. Billy's parents encouraged his curiosity and bought him a variety of engineering toys and kits.\n> \n> One day, Billy was playing with a water pump when he had an idea. He wondered if he could use the pump to create a water level sensor. He gathered some materials and began to build his experiment.\n> \n> Billy's experiment was a success! He was able to use the water pump to create a water level sensor that could accurately measure the level of water in a tank. Billy was so excited about his discovery that he decided to share it with his classmates.\n> \n> Billy's classmates were impressed by his experiment and he was even invited to present his findings at the school science fair. Billy was so proud of his accomplishment and he knew that he wanted to be an engineer when he grew up.\n> \n> Billy's passion for engineering led him down a path of success. He went on to study engineering at university and eventually became a successful engineer. Billy's story is an inspiration to us all. It shows us that anything is possible if we set our minds to it."
          },
          "metadata": {},
          "execution_count": 68
        }
      ]
    },
    {
      "cell_type": "code",
      "source": [],
      "metadata": {
        "id": "oeLLuxBOde_L"
      },
      "execution_count": null,
      "outputs": []
    }
  ]
}